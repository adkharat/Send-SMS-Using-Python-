{
 "cells": [
  {
   "cell_type": "code",
   "execution_count": null,
   "metadata": {},
   "outputs": [
    {
     "name": "stdout",
     "output_type": "stream",
     "text": [
      "{'return': False, 'status_code': 411, 'message': 'Invalid Numbers'}\n",
      "{'return': True, 'request_id': 'egrjtn2ixho0zk9', 'message': ['Message sent successfully to NonDND numbers']}\n"
     ]
    }
   ],
   "source": [
    "import requests\n",
    "import json\n",
    "from tkinter import *\n",
    "from tkinter.messagebox import showinfo, showerror\n",
    "\n",
    "\n",
    "def send_sms(number, message):\n",
    "    url = 'https://www.fast2sms.com/dev/bulk'\n",
    "    params = {\n",
    "        'authorization': 'YOUR_API_KEY',\n",
    "        'sender_id': 'FSTSMS',\n",
    "        'message': message,\n",
    "        'language': 'english',\n",
    "        'route': 'p',\n",
    "        'numbers': number\n",
    "    }\n",
    "    response = requests.get(url, params=params)\n",
    "    dic = response.json()\n",
    "    print(dic)\n",
    "    return dic.get('return')\n",
    "\n",
    "\n",
    "def btn_click():\n",
    "    num = textNumber.get()\n",
    "    msg = textMsg.get(\"1.0\", END)\n",
    "    r = send_sms(num, msg)\n",
    "    if r:\n",
    "        showinfo(\"Send Success\", \"Successfully sent\")\n",
    "    else:\n",
    "        showerror(\"Error\", \"Something went wrong..\")\n",
    "\n",
    "\n",
    "# Creating GUI\n",
    "root = Tk()\n",
    "root.title(\"Message Sender \")\n",
    "root.geometry(\"400x550\")\n",
    "font = (\"Helvetica\", 22, \"bold\")\n",
    "textNumber = Entry(root, font=font)\n",
    "textNumber.pack(fill=X, pady=20)\n",
    "textMsg = Text(root)\n",
    "textMsg.pack(fill=X)\n",
    "sendBtn = Button(root, text=\"SEND SMS\", command=btn_click)\n",
    "sendBtn.pack()\n",
    "root.mainloop()"
   ]
  },
  {
   "cell_type": "code",
   "execution_count": null,
   "metadata": {},
   "outputs": [],
   "source": []
  }
 ],
 "metadata": {
  "kernelspec": {
   "display_name": "Python 3",
   "language": "python",
   "name": "python3"
  },
  "language_info": {
   "codemirror_mode": {
    "name": "ipython",
    "version": 3
   },
   "file_extension": ".py",
   "mimetype": "text/x-python",
   "name": "python",
   "nbconvert_exporter": "python",
   "pygments_lexer": "ipython3",
   "version": "3.7.4"
  }
 },
 "nbformat": 4,
 "nbformat_minor": 2
}
